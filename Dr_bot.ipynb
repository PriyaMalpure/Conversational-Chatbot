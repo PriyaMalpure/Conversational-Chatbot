{
 "cells": [
  {
   "cell_type": "markdown",
   "metadata": {},
   "source": [
    "Let's start building Scraping Chatbot."
   ]
  },
  {
   "cell_type": "markdown",
   "metadata": {},
   "source": [
    "### Install all required packages"
   ]
  },
  {
   "cell_type": "code",
   "execution_count": 2,
   "metadata": {
    "colab": {
     "base_uri": "https://localhost:8080/",
     "height": 904
    },
    "colab_type": "code",
    "id": "xUIrA6BNck37",
    "outputId": "8f3f15bb-a6eb-493c-a624-67b389aa2352",
    "scrolled": true
   },
   "outputs": [
    {
     "name": "stdout",
     "output_type": "stream",
     "text": [
      "Requirement already satisfied: nltk in /usr/local/lib/python3.6/dist-packages (3.2.5)\n",
      "Requirement already satisfied: six in /usr/local/lib/python3.6/dist-packages (from nltk) (1.15.0)\n",
      "Collecting newspaper3k\n",
      "\u001b[?25l  Downloading https://files.pythonhosted.org/packages/d7/b9/51afecb35bb61b188a4b44868001de348a0e8134b4dfa00ffc191567c4b9/newspaper3k-0.2.8-py3-none-any.whl (211kB)\n",
      "\u001b[K     |████████████████████████████████| 215kB 2.8MB/s \n",
      "\u001b[?25hRequirement already satisfied: Pillow>=3.3.0 in /usr/local/lib/python3.6/dist-packages (from newspaper3k) (7.0.0)\n",
      "Collecting cssselect>=0.9.2\n",
      "  Downloading https://files.pythonhosted.org/packages/3b/d4/3b5c17f00cce85b9a1e6f91096e1cc8e8ede2e1be8e96b87ce1ed09e92c5/cssselect-1.1.0-py2.py3-none-any.whl\n",
      "Collecting tldextract>=2.0.1\n",
      "\u001b[?25l  Downloading https://files.pythonhosted.org/packages/12/cf/d0ff82625e53bd245d6173ce6333d190abbfcd94e4c30e54b4e16b474216/tldextract-2.2.3-py2.py3-none-any.whl (48kB)\n",
      "\u001b[K     |████████████████████████████████| 51kB 5.1MB/s \n",
      "\u001b[?25hCollecting feedfinder2>=0.0.4\n",
      "  Downloading https://files.pythonhosted.org/packages/35/82/1251fefec3bb4b03fd966c7e7f7a41c9fc2bb00d823a34c13f847fd61406/feedfinder2-0.0.4.tar.gz\n",
      "Requirement already satisfied: lxml>=3.6.0 in /usr/local/lib/python3.6/dist-packages (from newspaper3k) (4.2.6)\n",
      "Collecting jieba3k>=0.35.1\n",
      "\u001b[?25l  Downloading https://files.pythonhosted.org/packages/a9/cb/2c8332bcdc14d33b0bedd18ae0a4981a069c3513e445120da3c3f23a8aaa/jieba3k-0.35.1.zip (7.4MB)\n",
      "\u001b[K     |████████████████████████████████| 7.4MB 8.4MB/s \n",
      "\u001b[?25hRequirement already satisfied: python-dateutil>=2.5.3 in /usr/local/lib/python3.6/dist-packages (from newspaper3k) (2.8.1)\n",
      "Requirement already satisfied: PyYAML>=3.11 in /usr/local/lib/python3.6/dist-packages (from newspaper3k) (3.13)\n",
      "Requirement already satisfied: nltk>=3.2.1 in /usr/local/lib/python3.6/dist-packages (from newspaper3k) (3.2.5)\n",
      "Collecting feedparser>=5.2.1\n",
      "\u001b[?25l  Downloading https://files.pythonhosted.org/packages/91/d8/7d37fec71ff7c9dbcdd80d2b48bcdd86d6af502156fc93846fb0102cb2c4/feedparser-5.2.1.tar.bz2 (192kB)\n",
      "\u001b[K     |████████████████████████████████| 194kB 40.0MB/s \n",
      "\u001b[?25hCollecting tinysegmenter==0.3\n",
      "  Downloading https://files.pythonhosted.org/packages/17/82/86982e4b6d16e4febc79c2a1d68ee3b707e8a020c5d2bc4af8052d0f136a/tinysegmenter-0.3.tar.gz\n",
      "Requirement already satisfied: beautifulsoup4>=4.4.1 in /usr/local/lib/python3.6/dist-packages (from newspaper3k) (4.6.3)\n",
      "Requirement already satisfied: requests>=2.10.0 in /usr/local/lib/python3.6/dist-packages (from newspaper3k) (2.23.0)\n",
      "Requirement already satisfied: idna in /usr/local/lib/python3.6/dist-packages (from tldextract>=2.0.1->newspaper3k) (2.10)\n",
      "Collecting requests-file>=1.4\n",
      "  Downloading https://files.pythonhosted.org/packages/77/86/cdb5e8eaed90796aa83a6d9f75cfbd37af553c47a291cd47bc410ef9bdb2/requests_file-1.5.1-py2.py3-none-any.whl\n",
      "Requirement already satisfied: six in /usr/local/lib/python3.6/dist-packages (from feedfinder2>=0.0.4->newspaper3k) (1.15.0)\n",
      "Requirement already satisfied: chardet<4,>=3.0.2 in /usr/local/lib/python3.6/dist-packages (from requests>=2.10.0->newspaper3k) (3.0.4)\n",
      "Requirement already satisfied: urllib3!=1.25.0,!=1.25.1,<1.26,>=1.21.1 in /usr/local/lib/python3.6/dist-packages (from requests>=2.10.0->newspaper3k) (1.24.3)\n",
      "Requirement already satisfied: certifi>=2017.4.17 in /usr/local/lib/python3.6/dist-packages (from requests>=2.10.0->newspaper3k) (2020.6.20)\n",
      "Building wheels for collected packages: feedfinder2, jieba3k, feedparser, tinysegmenter\n",
      "  Building wheel for feedfinder2 (setup.py) ... \u001b[?25l\u001b[?25hdone\n",
      "  Created wheel for feedfinder2: filename=feedfinder2-0.0.4-cp36-none-any.whl size=3355 sha256=bbbb2087822f7786283b8764c73dae600d20a92f1950f916d5822436d59fb2d7\n",
      "  Stored in directory: /root/.cache/pip/wheels/de/03/ca/778e3a7a627e3d98836cc890e7cb40c7575424cfd3340f40ed\n",
      "  Building wheel for jieba3k (setup.py) ... \u001b[?25l\u001b[?25hdone\n",
      "  Created wheel for jieba3k: filename=jieba3k-0.35.1-cp36-none-any.whl size=7398406 sha256=b8d41bedcc7822b9c93cf302f410e49d458191c1278bfb0ddf9fa722f8ad56aa\n",
      "  Stored in directory: /root/.cache/pip/wheels/83/15/9c/a3f1f67e7f7181170ad37d32e503c35da20627c013f438ed34\n",
      "  Building wheel for feedparser (setup.py) ... \u001b[?25l\u001b[?25hdone\n",
      "  Created wheel for feedparser: filename=feedparser-5.2.1-cp36-none-any.whl size=44939 sha256=559cc6c0a51d679cb54377d080bf2e87c40c017c08cb28cbdf8d53fcd98d5df0\n",
      "  Stored in directory: /root/.cache/pip/wheels/8c/69/b7/f52763c41c5471df57703a0ef718a32a5e81ee35dcf6d4f97f\n",
      "  Building wheel for tinysegmenter (setup.py) ... \u001b[?25l\u001b[?25hdone\n",
      "  Created wheel for tinysegmenter: filename=tinysegmenter-0.3-cp36-none-any.whl size=13538 sha256=d87615899d7ec03e0debd83ac77dd3a56b204af2072feb5aaf684bd2e7dd5f61\n",
      "  Stored in directory: /root/.cache/pip/wheels/81/2b/43/a02ede72324dd40cdd7ca53aad718c7710628e91b8b0dc0f02\n",
      "Successfully built feedfinder2 jieba3k feedparser tinysegmenter\n",
      "Installing collected packages: cssselect, requests-file, tldextract, feedfinder2, jieba3k, feedparser, tinysegmenter, newspaper3k\n",
      "Successfully installed cssselect-1.1.0 feedfinder2-0.0.4 feedparser-5.2.1 jieba3k-0.35.1 newspaper3k-0.2.8 requests-file-1.5.1 tinysegmenter-0.3 tldextract-2.2.3\n"
     ]
    }
   ],
   "source": [
    "!pip install nltk\n",
    "!pip install newspaper3k       # Extract structured info from any article"
   ]
  },
  {
   "cell_type": "markdown",
   "metadata": {},
   "source": [
    "### Import libraries"
   ]
  },
  {
   "cell_type": "code",
   "execution_count": 3,
   "metadata": {
    "colab": {},
    "colab_type": "code",
    "id": "FI7olYUIcuW2"
   },
   "outputs": [],
   "source": [
    "from newspaper import Article                               # Content extractor from article\n",
    "import random\n",
    "import nltk\n",
    "import string\n",
    "from sklearn.feature_extraction.text import CountVectorizer  # Convert a collection of text documents to a matrix of token counts\n",
    "from sklearn.metrics.pairwise import cosine_similarity       # Compute cosine similarity between samples in X and Y.\n",
    "import numpy as np"
   ]
  },
  {
   "cell_type": "code",
   "execution_count": 4,
   "metadata": {
    "colab": {
     "base_uri": "https://localhost:8080/",
     "height": 69
    },
    "colab_type": "code",
    "id": "yu2ZzJFjeLD3",
    "outputId": "16661ff1-a58d-4bac-c7e9-bbb2e33dfdd6"
   },
   "outputs": [
    {
     "name": "stdout",
     "output_type": "stream",
     "text": [
      "[nltk_data] Downloading package punkt to /root/nltk_data...\n",
      "[nltk_data]   Unzipping tokenizers/punkt.zip.\n"
     ]
    },
    {
     "data": {
      "text/plain": [
       "True"
      ]
     },
     "execution_count": 4,
     "metadata": {
      "tags": []
     },
     "output_type": "execute_result"
    }
   ],
   "source": [
    "# Download punkt package\n",
    "nltk.download('punkt')"
   ]
  },
  {
   "cell_type": "markdown",
   "metadata": {},
   "source": [
    "### Get the article"
   ]
  },
  {
   "cell_type": "code",
   "execution_count": 5,
   "metadata": {
    "colab": {
     "base_uri": "https://localhost:8080/",
     "height": 1000
    },
    "colab_type": "code",
    "id": "1x2pQSSaeZOe",
    "outputId": "0b3922ca-0781-435d-8fce-40a1e1c4d84f"
   },
   "outputs": [
    {
     "name": "stdout",
     "output_type": "stream",
     "text": [
      "Overview\n",
      "\n",
      "Coronavirus Open pop-up dialog box Close Coronavirus Coronavirus Coronavirus is a family of viruses that can cause respiratory illnesses such as the common cold, severe acute respiratory syndrome (SARS) and Middle East respiratory syndrome (MERS).\n",
      "\n",
      "Coronaviruses are a family of viruses that can cause illnesses such as the common cold, severe acute respiratory syndrome (SARS) and Middle East respiratory syndrome (MERS). In 2019, a new coronavirus was identified as the cause of a disease outbreak that originated in China.\n",
      "\n",
      "The virus is now known as the severe acute respiratory syndrome coronavirus 2 (SARS-CoV-2). The disease it causes is called coronavirus disease 2019 (COVID-19). In March 2020, the World Health Organization (WHO) declared the COVID-19 outbreak a pandemic.\n",
      "\n",
      "Public health groups, including the U.S. Centers for Disease Control and Prevention (CDC) and WHO , are monitoring the pandemic and posting updates on their websites. These groups have also issued recommendations for preventing and treating the illness.\n",
      "\n",
      "Products & Services Coronavirus map: Tracking the trends\n",
      "\n",
      "Symptoms\n",
      "\n",
      "Signs and symptoms of coronavirus disease 2019 (COVID-19) may appear two to 14 days after exposure. This time after exposure and before having symptoms is called the incubation period. Common signs and symptoms can include:\n",
      "\n",
      "Fever\n",
      "\n",
      "Cough\n",
      "\n",
      "Tiredness\n",
      "\n",
      "Early symptoms of COVID-19 may include a loss of taste or smell.\n",
      "\n",
      "Other symptoms can include:\n",
      "\n",
      "Shortness of breath or difficulty breathing\n",
      "\n",
      "Muscle aches\n",
      "\n",
      "Chills\n",
      "\n",
      "Sore throat\n",
      "\n",
      "Runny nose\n",
      "\n",
      "Headache\n",
      "\n",
      "Chest pain\n",
      "\n",
      "This list is not all inclusive. Other less common symptoms have been reported, such as rash, nausea, vomiting and diarrhea. Children have similar symptoms to adults and generally have mild illness.\n",
      "\n",
      "The severity of COVID-19 symptoms can range from very mild to severe. Some people may have only a few symptoms, and some people may have no symptoms at all. Some people may experience worsened symptoms, such as worsened shortness of breath and pneumonia, about a week after symptoms start.\n",
      "\n",
      "People who are older have a higher risk of serious illness from COVID-19 , and the risk increases with age. People who have existing chronic medical conditions also may have a higher risk of serious illness. Serious medical conditions that increase the risk of serious illness from COVID-19 include:\n",
      "\n",
      "Serious heart diseases, such as heart failure, coronary artery disease or cardiomyopathy\n",
      "\n",
      "Cancer\n",
      "\n",
      "Chronic obstructive pulmonary disease (COPD)\n",
      "\n",
      "Type 2 diabetes\n",
      "\n",
      "Severe obesity\n",
      "\n",
      "Chronic kidney disease\n",
      "\n",
      "Sickle cell disease\n",
      "\n",
      "Weakened immune system from solid organ transplants\n",
      "\n",
      "Other conditions may increase the risk of serious illness, such as:\n",
      "\n",
      "Asthma\n",
      "\n",
      "Liver disease\n",
      "\n",
      "Chronic lung diseases such as cystic fibrosis\n",
      "\n",
      "Brain and nervous system conditions\n",
      "\n",
      "Weakened immune system from bone marrow transplant, HIV or some medications\n",
      "\n",
      "Type 1 diabetes\n",
      "\n",
      "High blood pressure\n",
      "\n",
      "This list is not all inclusive. Other underlying medical conditions may increase your risk of serious illness from COVID-19 .\n",
      "\n",
      "COVID-19 Self-Assessment Tool\n",
      "\n",
      "Assess your symptoms and find out if you're a candidate for a coronavirus disease 2019 (COVID-19) test.\n",
      "\n",
      "When to see a doctor\n",
      "\n",
      "If you have COVID-19 symptoms or you've been in contact with someone diagnosed with COVID-19 , contact your doctor or clinic right away for medical advice. Tell your health care team about your symptoms and possible exposure before you go to your appointment.\n",
      "\n",
      "If you have emergency COVID-19 signs and symptoms, seek care immediately. Emergency signs and symptoms can include:\n",
      "\n",
      "Trouble breathing\n",
      "\n",
      "Persistent chest pain or pressure\n",
      "\n",
      "Inability to stay awake\n",
      "\n",
      "New confusion\n",
      "\n",
      "Blue lips or face\n",
      "\n",
      "If you have signs or symptoms of COVID-19 , contact your doctor or clinic for guidance. Let your doctor know if you have other chronic medical conditions, such as heart disease or lung disease. During the pandemic, it's important to make sure health care is available for those in greatest need.\n",
      "\n",
      "More Information Unusual symptoms of coronavirus\n",
      "\n",
      "Causes\n",
      "\n",
      "Infection with the new coronavirus (severe acute respiratory syndrome coronavirus 2, or SARS-CoV-2) causes coronavirus disease 2019 ( COVID-19 ).\n",
      "\n",
      "The virus appears to spread easily among people, and more continues to be discovered over time about how it spreads. Data has shown that it spreads from person to person among those in close contact (within about 6 feet, or 2 meters). The virus spreads by respiratory droplets released when someone with the virus coughs, sneezes or talks. These droplets can be inhaled or land in the mouth or nose of a person nearby.\n",
      "\n",
      "It can also spread if a person touches a surface with the virus on it and then touches his or her mouth, nose or eyes, although this isn't considered to be a main way it spreads.\n",
      "\n",
      "Risk factors\n",
      "\n",
      "Risk factors for COVID-19 appear to include:\n",
      "\n",
      "Close contact (within 6 feet, or 2 meters) with someone who has COVID-19\n",
      "\n",
      "Being coughed or sneezed on by an infected person\n",
      "\n",
      "Complications\n",
      "\n",
      "Although most people with COVID-19 have mild to moderate symptoms, the disease can cause severe medical complications and lead to death in some people. Older adults or people with existing chronic medical conditions are at greater risk of becoming seriously ill with COVID-19 .\n",
      "\n",
      "Complications can include:\n",
      "\n",
      "Pneumonia and trouble breathing\n",
      "\n",
      "Organ failure in several organs\n",
      "\n",
      "Heart problems\n",
      "\n",
      "A severe lung condition that causes a low amount of oxygen to go through your bloodstream to your organs (acute respiratory distress syndrome)\n",
      "\n",
      "Blood clots\n",
      "\n",
      "Acute kidney injury\n",
      "\n",
      "Additional viral and bacterial infections\n",
      "\n",
      "Prevention\n",
      "\n",
      "Although there is no vaccine available to prevent COVID-19 , you can take steps to reduce your risk of infection. WHO and CDC recommend following these precautions for avoiding COVID-19 :\n",
      "\n",
      "Avoid large events and mass gatherings.\n",
      "\n",
      "Avoid close contact (within about 6 feet, or 2 meters) with anyone who is sick or has symptoms.\n",
      "\n",
      "Stay home as much as possible and keep distance between yourself and others (within about 6 feet, or 2 meters), especially if you have a higher risk of serious illness. Keep in mind some people may have COVID-19 and spread it to others, even if they don't have symptoms or don't know they have COVID-19 .\n",
      "\n",
      "and spread it to others, even if they don't have symptoms or don't know they have . Wash your hands often with soap and water for at least 20 seconds, or use an alcohol-based hand sanitizer that contains at least 60% alcohol.\n",
      "\n",
      "Cover your face with a cloth face mask in public spaces, such as the grocery store, where it's difficult to avoid close contact with others, especially if you're in an area with ongoing community spread. Only use nonmedical cloth masks — surgical masks and N95 respirators should be reserved for health care providers.\n",
      "\n",
      "Cover your mouth and nose with your elbow or a tissue when you cough or sneeze. Throw away the used tissue. Wash your hands right away.\n",
      "\n",
      "Avoid touching your eyes, nose and mouth.\n",
      "\n",
      "Avoid sharing dishes, glasses, towels, bedding and other household items if you're sick.\n",
      "\n",
      "Clean and disinfect high-touch surfaces, such as doorknobs, light switches, electronics and counters, daily.\n",
      "\n",
      "Stay home from work, school and public areas if you're sick, unless you're going to get medical care. Avoid public transportation, taxis and ride-sharing if you're sick.\n",
      "\n",
      "If you have a chronic medical condition and may have a higher risk of serious illness, check with your doctor about other ways to protect yourself.\n",
      "\n",
      "Travel\n"
     ]
    }
   ],
   "source": [
    "url = 'https://www.mayoclinic.org/diseases-conditions/coronavirus/symptoms-causes/syc-20479963'\n",
    "article = Article(url)\n",
    "article.download()\n",
    "article.parse()\n",
    "article.nlp()\n",
    "corpus = article.text\n",
    "print(corpus)"
   ]
  },
  {
   "cell_type": "markdown",
   "metadata": {},
   "source": [
    "### Tokenization"
   ]
  },
  {
   "cell_type": "code",
   "execution_count": 6,
   "metadata": {
    "colab": {
     "base_uri": "https://localhost:8080/",
     "height": 55
    },
    "colab_type": "code",
    "id": "dwCW_Jq0f4qi",
    "outputId": "40cdad72-18ad-4483-fbd1-6a06eea84e78"
   },
   "outputs": [
    {
     "name": "stdout",
     "output_type": "stream",
     "text": [
      "['Overview\\n\\nCoronavirus Open pop-up dialog box Close Coronavirus Coronavirus Coronavirus is a family of viruses that can cause respiratory illnesses such as the common cold, severe acute respiratory syndrome (SARS) and Middle East respiratory syndrome (MERS).', 'Coronaviruses are a family of viruses that can cause illnesses such as the common cold, severe acute respiratory syndrome (SARS) and Middle East respiratory syndrome (MERS).', 'In 2019, a new coronavirus was identified as the cause of a disease outbreak that originated in China.', 'The virus is now known as the severe acute respiratory syndrome coronavirus 2 (SARS-CoV-2).', 'The disease it causes is called coronavirus disease 2019 (COVID-19).', 'In March 2020, the World Health Organization (WHO) declared the COVID-19 outbreak a pandemic.', 'Public health groups, including the U.S. Centers for Disease Control and Prevention (CDC) and WHO , are monitoring the pandemic and posting updates on their websites.', 'These groups have also issued recommendations for preventing and treating the illness.', 'Products & Services Coronavirus map: Tracking the trends\\n\\nSymptoms\\n\\nSigns and symptoms of coronavirus disease 2019 (COVID-19) may appear two to 14 days after exposure.', 'This time after exposure and before having symptoms is called the incubation period.', 'Common signs and symptoms can include:\\n\\nFever\\n\\nCough\\n\\nTiredness\\n\\nEarly symptoms of COVID-19 may include a loss of taste or smell.', 'Other symptoms can include:\\n\\nShortness of breath or difficulty breathing\\n\\nMuscle aches\\n\\nChills\\n\\nSore throat\\n\\nRunny nose\\n\\nHeadache\\n\\nChest pain\\n\\nThis list is not all inclusive.', 'Other less common symptoms have been reported, such as rash, nausea, vomiting and diarrhea.', 'Children have similar symptoms to adults and generally have mild illness.', 'The severity of COVID-19 symptoms can range from very mild to severe.', 'Some people may have only a few symptoms, and some people may have no symptoms at all.', 'Some people may experience worsened symptoms, such as worsened shortness of breath and pneumonia, about a week after symptoms start.', 'People who are older have a higher risk of serious illness from COVID-19 , and the risk increases with age.', 'People who have existing chronic medical conditions also may have a higher risk of serious illness.', 'Serious medical conditions that increase the risk of serious illness from COVID-19 include:\\n\\nSerious heart diseases, such as heart failure, coronary artery disease or cardiomyopathy\\n\\nCancer\\n\\nChronic obstructive pulmonary disease (COPD)\\n\\nType 2 diabetes\\n\\nSevere obesity\\n\\nChronic kidney disease\\n\\nSickle cell disease\\n\\nWeakened immune system from solid organ transplants\\n\\nOther conditions may increase the risk of serious illness, such as:\\n\\nAsthma\\n\\nLiver disease\\n\\nChronic lung diseases such as cystic fibrosis\\n\\nBrain and nervous system conditions\\n\\nWeakened immune system from bone marrow transplant, HIV or some medications\\n\\nType 1 diabetes\\n\\nHigh blood pressure\\n\\nThis list is not all inclusive.', 'Other underlying medical conditions may increase your risk of serious illness from COVID-19 .', \"COVID-19 Self-Assessment Tool\\n\\nAssess your symptoms and find out if you're a candidate for a coronavirus disease 2019 (COVID-19) test.\", \"When to see a doctor\\n\\nIf you have COVID-19 symptoms or you've been in contact with someone diagnosed with COVID-19 , contact your doctor or clinic right away for medical advice.\", 'Tell your health care team about your symptoms and possible exposure before you go to your appointment.', 'If you have emergency COVID-19 signs and symptoms, seek care immediately.', 'Emergency signs and symptoms can include:\\n\\nTrouble breathing\\n\\nPersistent chest pain or pressure\\n\\nInability to stay awake\\n\\nNew confusion\\n\\nBlue lips or face\\n\\nIf you have signs or symptoms of COVID-19 , contact your doctor or clinic for guidance.', 'Let your doctor know if you have other chronic medical conditions, such as heart disease or lung disease.', \"During the pandemic, it's important to make sure health care is available for those in greatest need.\", 'More Information Unusual symptoms of coronavirus\\n\\nCauses\\n\\nInfection with the new coronavirus (severe acute respiratory syndrome coronavirus 2, or SARS-CoV-2) causes coronavirus disease 2019 ( COVID-19 ).', 'The virus appears to spread easily among people, and more continues to be discovered over time about how it spreads.', 'Data has shown that it spreads from person to person among those in close contact (within about 6 feet, or 2 meters).', 'The virus spreads by respiratory droplets released when someone with the virus coughs, sneezes or talks.', 'These droplets can be inhaled or land in the mouth or nose of a person nearby.', \"It can also spread if a person touches a surface with the virus on it and then touches his or her mouth, nose or eyes, although this isn't considered to be a main way it spreads.\", 'Risk factors\\n\\nRisk factors for COVID-19 appear to include:\\n\\nClose contact (within 6 feet, or 2 meters) with someone who has COVID-19\\n\\nBeing coughed or sneezed on by an infected person\\n\\nComplications\\n\\nAlthough most people with COVID-19 have mild to moderate symptoms, the disease can cause severe medical complications and lead to death in some people.', 'Older adults or people with existing chronic medical conditions are at greater risk of becoming seriously ill with COVID-19 .', 'Complications can include:\\n\\nPneumonia and trouble breathing\\n\\nOrgan failure in several organs\\n\\nHeart problems\\n\\nA severe lung condition that causes a low amount of oxygen to go through your bloodstream to your organs (acute respiratory distress syndrome)\\n\\nBlood clots\\n\\nAcute kidney injury\\n\\nAdditional viral and bacterial infections\\n\\nPrevention\\n\\nAlthough there is no vaccine available to prevent COVID-19 , you can take steps to reduce your risk of infection.', 'WHO and CDC recommend following these precautions for avoiding COVID-19 :\\n\\nAvoid large events and mass gatherings.', 'Avoid close contact (within about 6 feet, or 2 meters) with anyone who is sick or has symptoms.', 'Stay home as much as possible and keep distance between yourself and others (within about 6 feet, or 2 meters), especially if you have a higher risk of serious illness.', \"Keep in mind some people may have COVID-19 and spread it to others, even if they don't have symptoms or don't know they have COVID-19 .\", \"and spread it to others, even if they don't have symptoms or don't know they have .\", 'Wash your hands often with soap and water for at least 20 seconds, or use an alcohol-based hand sanitizer that contains at least 60% alcohol.', \"Cover your face with a cloth face mask in public spaces, such as the grocery store, where it's difficult to avoid close contact with others, especially if you're in an area with ongoing community spread.\", 'Only use nonmedical cloth masks — surgical masks and N95 respirators should be reserved for health care providers.', 'Cover your mouth and nose with your elbow or a tissue when you cough or sneeze.', 'Throw away the used tissue.', 'Wash your hands right away.', 'Avoid touching your eyes, nose and mouth.', \"Avoid sharing dishes, glasses, towels, bedding and other household items if you're sick.\", 'Clean and disinfect high-touch surfaces, such as doorknobs, light switches, electronics and counters, daily.', \"Stay home from work, school and public areas if you're sick, unless you're going to get medical care.\", \"Avoid public transportation, taxis and ride-sharing if you're sick.\", 'If you have a chronic medical condition and may have a higher risk of serious illness, check with your doctor about other ways to protect yourself.', 'Travel']\n"
     ]
    }
   ],
   "source": [
    "text = corpus\n",
    "sent_list = nltk.sent_tokenize(text)\n",
    "print(sent_list)"
   ]
  },
  {
   "cell_type": "markdown",
   "metadata": {},
   "source": [
    "### Function to return a random greeting response to users greetings"
   ]
  },
  {
   "cell_type": "code",
   "execution_count": 7,
   "metadata": {
    "colab": {},
    "colab_type": "code",
    "id": "DtxRFx2xgiCB"
   },
   "outputs": [],
   "source": [
    "def greeting_response(text):\n",
    "    text = text.lower()\n",
    "    # Bot greeting response\n",
    "    bot_greetings = ['hi', 'hello','hey']\n",
    "    # user greeting response\n",
    "    user_greetings = ['wassup', 'hi', 'hello', 'hey']\n",
    "\n",
    "    for word in text.split():\n",
    "        if word in user_greetings:\n",
    "              return random.choice(bot_greetings) "
   ]
  },
  {
   "cell_type": "code",
   "execution_count": 8,
   "metadata": {
    "colab": {},
    "colab_type": "code",
    "id": "Qw33jr2Qkkq4"
   },
   "outputs": [],
   "source": [
    "def index_sort(list_var):\n",
    "    length = len(list_var)\n",
    "    list_index = list(range(0, length))\n",
    "    x = list_var\n",
    "    for i in range(length):\n",
    "        for j in range(length):\n",
    "            if x[list_index[i]] > x[list_index[j]]:\n",
    "                # Swap\n",
    "                temp = list_index[i]\n",
    "                list_index[i] = list_index[j]\n",
    "                list_index[j] = temp\n",
    "    return list_index"
   ]
  },
  {
   "cell_type": "markdown",
   "metadata": {},
   "source": [
    "### Create bot response"
   ]
  },
  {
   "cell_type": "code",
   "execution_count": 9,
   "metadata": {
    "colab": {},
    "colab_type": "code",
    "id": "LOt4SsKDiDi7"
   },
   "outputs": [],
   "source": [
    "def bot_response(user_input):\n",
    "    user_input = user_input.lower()\n",
    "    sent_list.append(user_input)\n",
    "    bot_response = ''\n",
    "    cm = CountVectorizer().fit_transform(sent_list)\n",
    "    similarity_scores = cosine_similarity(cm[-1], cm) \n",
    "    similarity_score_list = similarity_scores.flatten()\n",
    "    index = index_sort(similarity_score_list)\n",
    "    #print(\"index\", index)\n",
    "    index = index[1:]\n",
    "    #print(index)\n",
    "    response_flag = 0\n",
    "\n",
    "    j = 0\n",
    "    for i in range(len(index)):\n",
    "        if similarity_score_list[index[i]] > 0.0:\n",
    "        bot_response = bot_response+ ' ' + sent_list[index[i]]\n",
    "        response_flag = 1\n",
    "        j = j+1\n",
    "        if j > 2:\n",
    "            break\n",
    "    \n",
    "    if response_flag == 0:\n",
    "        bot_reponse = bot_response + ' '+ \"I apologize, I don't understand\"\n",
    "\n",
    "    sent_list.remove(user_input)\n",
    "    return bot_response"
   ]
  },
  {
   "cell_type": "markdown",
   "metadata": {},
   "source": [
    "### Start chat"
   ]
  },
  {
   "cell_type": "code",
   "execution_count": 10,
   "metadata": {
    "colab": {
     "base_uri": "https://localhost:8080/",
     "height": 679
    },
    "colab_type": "code",
    "id": "7gwnBJBonxnD",
    "outputId": "44c373c2-1489-48a3-b0f6-643847036614"
   },
   "outputs": [
    {
     "name": "stdout",
     "output_type": "stream",
     "text": [
      "Doc Bot : I am Doctor bot. I will answer your queries regarding COVID 19\".\n",
      "User : Hello\n",
      "Doc Bot : hello\n",
      "User : Tell me some symptomps of covid19\n",
      "Doc Bot :  Some people may experience worsened symptoms, such as worsened shortness of breath and pneumonia, about a week after symptoms start. Some people may have only a few symptoms, and some people may have no symptoms at all. Common signs and symptoms can include:\n",
      "\n",
      "Fever\n",
      "\n",
      "Cough\n",
      "\n",
      "Tiredness\n",
      "\n",
      "Early symptoms of COVID-19 may include a loss of taste or smell.\n",
      "User : When to visit doctor? \n",
      "Doc Bot :  When to see a doctor\n",
      "\n",
      "If you have COVID-19 symptoms or you've been in contact with someone diagnosed with COVID-19 , contact your doctor or clinic right away for medical advice. The virus appears to spread easily among people, and more continues to be discovered over time about how it spreads. Complications can include:\n",
      "\n",
      "Pneumonia and trouble breathing\n",
      "\n",
      "Organ failure in several organs\n",
      "\n",
      "Heart problems\n",
      "\n",
      "A severe lung condition that causes a low amount of oxygen to go through your bloodstream to your organs (acute respiratory distress syndrome)\n",
      "\n",
      "Blood clots\n",
      "\n",
      "Acute kidney injury\n",
      "\n",
      "Additional viral and bacterial infections\n",
      "\n",
      "Prevention\n",
      "\n",
      "Although there is no vaccine available to prevent COVID-19 , you can take steps to reduce your risk of infection.\n",
      "User : bye\n",
      "Doc Bot : Chat with you later\n"
     ]
    }
   ],
   "source": [
    "print('Doc Bot : I am Doctor bot. I will answer your queries regarding COVID 19\".')\n",
    "\n",
    "exit_list = ['bye', 'see you later', 'quit', 'break']\n",
    "while True:\n",
    "    user_input = input(\"User : \")\n",
    "    if user_input.lower() in exit_list:\n",
    "        print('Doc Bot : Chat with you later')\n",
    "        break\n",
    "    else:\n",
    "\n",
    "        if greeting_response(user_input) != None:\n",
    "            print('Doc Bot : '+greeting_response(user_input))\n",
    "        else:\n",
    "            print('Doc Bot : '+bot_response(user_input))\n",
    "\n"
   ]
  },
  {
   "cell_type": "code",
   "execution_count": null,
   "metadata": {
    "colab": {},
    "colab_type": "code",
    "id": "lVa4bjYRoS5l"
   },
   "outputs": [],
   "source": []
  }
 ],
 "metadata": {
  "colab": {
   "name": "bot.ipynb",
   "provenance": []
  },
  "kernelspec": {
   "display_name": "Python 3",
   "language": "python",
   "name": "python3"
  },
  "language_info": {
   "codemirror_mode": {
    "name": "ipython",
    "version": 3
   },
   "file_extension": ".py",
   "mimetype": "text/x-python",
   "name": "python",
   "nbconvert_exporter": "python",
   "pygments_lexer": "ipython3",
   "version": "3.6.5"
  }
 },
 "nbformat": 4,
 "nbformat_minor": 1
}
